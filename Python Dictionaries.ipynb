{
 "cells": [
  {
   "cell_type": "markdown",
   "metadata": {},
   "source": [
    "\n",
    "\n",
    "![](https://www.python.org/static/img/python-logo.png)\n",
    "\n"
   ]
  },
  {
   "cell_type": "markdown",
   "metadata": {},
   "source": [
    "# Python Dictionaries\n",
    "---\n",
    "\n",
    "In python, dictionaries are hash maps - data structures that use a hashing function to map keys to locations in memory where values are stored.\n",
    "\n",
    "## Hashing Function\n",
    "---\n",
    "\n",
    "A hashing function is used to deterministically return a consistent output for a given input. The output of this function determines the place in memory where the value is stored. A consequence of this, is that hash keys must be immutable, as the output from the hash function could unexpectedly change if, after storing a key value pair in the structure, the key were to change.\n",
    "\n",
    "We can see why this is a problem in python's hashing function for a tuple, if it were to be used on a list:"
   ]
  },
  {
   "cell_type": "code",
   "execution_count": 3,
   "metadata": {},
   "outputs": [
    {
     "name": "stdout",
     "output_type": "stream",
     "text": [
      "our value stored at our_dict[key]: True\n",
      "Is our key the same as it was? False 218750522 218750523\n"
     ]
    },
    {
     "ename": "KeyError",
     "evalue": "[0, 1]",
     "output_type": "error",
     "traceback": [
      "\u001b[0;31m---------------------------------------------------------------------------\u001b[0m",
      "\u001b[0;31mKeyError\u001b[0m                                  Traceback (most recent call last)",
      "\u001b[0;32m<ipython-input-3-981b5af0d32b>\u001b[0m in \u001b[0;36m<module>\u001b[0;34m\u001b[0m\n\u001b[1;32m     20\u001b[0m \u001b[0msame_key_rehashed\u001b[0m \u001b[0;34m=\u001b[0m \u001b[0mkey\u001b[0m\u001b[0;34m.\u001b[0m\u001b[0m__hash__\u001b[0m\u001b[0;34m(\u001b[0m\u001b[0;34m)\u001b[0m\u001b[0;34m\u001b[0m\u001b[0;34m\u001b[0m\u001b[0m\n\u001b[1;32m     21\u001b[0m \u001b[0mprint\u001b[0m\u001b[0;34m(\u001b[0m\u001b[0;34m'Is our key the same as it was?'\u001b[0m\u001b[0;34m,\u001b[0m \u001b[0mhashed_key\u001b[0m \u001b[0;34m==\u001b[0m \u001b[0msame_key_rehashed\u001b[0m\u001b[0;34m,\u001b[0m \u001b[0mhashed_key\u001b[0m\u001b[0;34m,\u001b[0m \u001b[0msame_key_rehashed\u001b[0m\u001b[0;34m)\u001b[0m\u001b[0;34m\u001b[0m\u001b[0;34m\u001b[0m\u001b[0m\n\u001b[0;32m---> 22\u001b[0;31m \u001b[0mprint\u001b[0m\u001b[0;34m(\u001b[0m\u001b[0mour_dict\u001b[0m\u001b[0;34m[\u001b[0m\u001b[0mkey\u001b[0m\u001b[0;34m]\u001b[0m\u001b[0;34m)\u001b[0m\u001b[0;34m\u001b[0m\u001b[0;34m\u001b[0m\u001b[0m\n\u001b[0m",
      "\u001b[0;31mKeyError\u001b[0m: [0, 1]"
     ]
    }
   ],
   "source": [
    "import ctypes\n",
    "\n",
    "class hashable_list(list):\n",
    "    c_mul = lambda self, a, b: ctypes.c_int32((a * b) & 0xffffffff).value\n",
    "    def __hash__(self):\n",
    "        value = 0x345678\n",
    "        for item in self:\n",
    "            value = self.c_mul(1000003, value) ^ hash(item)\n",
    "        value = value ^ len(self)\n",
    "        if value == -1:\n",
    "            value = -2\n",
    "        return value\n",
    "\n",
    "our_dict = {}\n",
    "key = hashable_list([0, 0])\n",
    "our_dict[key] = True\n",
    "print('our value stored at our_dict[key]:', our_dict[key])\n",
    "hashed_key = key.__hash__()\n",
    "key[1] = 1\n",
    "same_key_rehashed = key.__hash__()\n",
    "print('Is our key the same as it was?', hashed_key == same_key_rehashed, hashed_key, same_key_rehashed)\n",
    "print(our_dict[key])"
   ]
  },
  {
   "cell_type": "markdown",
   "metadata": {},
   "source": [
    "### Unhashable Types\n",
    "---\n",
    "\n",
    "By default, python provides support for hashing immutable structures. Other data structures are unhashable types."
   ]
  },
  {
   "cell_type": "code",
   "execution_count": 45,
   "metadata": {},
   "outputs": [
    {
     "ename": "TypeError",
     "evalue": "unhashable type: 'list'",
     "output_type": "error",
     "traceback": [
      "\u001b[0;31m---------------------------------------------------------------------------\u001b[0m",
      "\u001b[0;31mTypeError\u001b[0m                                 Traceback (most recent call last)",
      "\u001b[0;32m<ipython-input-45-f91c7c74bd4d>\u001b[0m in \u001b[0;36m<module>\u001b[0;34m\u001b[0m\n\u001b[1;32m      4\u001b[0m \u001b[0mcache\u001b[0m\u001b[0;34m[\u001b[0m\u001b[0;34m'a'\u001b[0m\u001b[0;34m]\u001b[0m \u001b[0;34m=\u001b[0m \u001b[0;36m0\u001b[0m\u001b[0;34m\u001b[0m\u001b[0;34m\u001b[0m\u001b[0m\n\u001b[1;32m      5\u001b[0m \u001b[0mcache\u001b[0m\u001b[0;34m[\u001b[0m\u001b[0mfrozenset\u001b[0m\u001b[0;34m(\u001b[0m\u001b[0;34m[\u001b[0m\u001b[0;34m'alpha'\u001b[0m\u001b[0;34m,\u001b[0m \u001b[0;34m'bravo'\u001b[0m\u001b[0;34m]\u001b[0m\u001b[0;34m)\u001b[0m\u001b[0;34m]\u001b[0m \u001b[0;34m=\u001b[0m \u001b[0;36m0\u001b[0m\u001b[0;34m\u001b[0m\u001b[0;34m\u001b[0m\u001b[0m\n\u001b[0;32m----> 6\u001b[0;31m \u001b[0mcache\u001b[0m\u001b[0;34m[\u001b[0m\u001b[0;34m[\u001b[0m\u001b[0;36m0\u001b[0m\u001b[0;34m,\u001b[0m \u001b[0;36m0\u001b[0m\u001b[0;34m]\u001b[0m\u001b[0;34m]\u001b[0m \u001b[0;34m=\u001b[0m \u001b[0;36m0\u001b[0m\u001b[0;34m\u001b[0m\u001b[0;34m\u001b[0m\u001b[0m\n\u001b[0m",
      "\u001b[0;31mTypeError\u001b[0m: unhashable type: 'list'"
     ]
    }
   ],
   "source": [
    "cache = {}\n",
    "cache[0] = 0\n",
    "cache[(0, 0)] = 0\n",
    "cache['a'] = 0\n",
    "cache[frozenset(['alpha', 'bravo'])] = 0\n",
    "cache[[0, 0]] = 0"
   ]
  },
  {
   "cell_type": "code",
   "execution_count": 46,
   "metadata": {},
   "outputs": [
    {
     "ename": "TypeError",
     "evalue": "unhashable type: 'set'",
     "output_type": "error",
     "traceback": [
      "\u001b[0;31m---------------------------------------------------------------------------\u001b[0m",
      "\u001b[0;31mTypeError\u001b[0m                                 Traceback (most recent call last)",
      "\u001b[0;32m<ipython-input-46-27d7a221536f>\u001b[0m in \u001b[0;36m<module>\u001b[0;34m\u001b[0m\n\u001b[0;32m----> 1\u001b[0;31m \u001b[0mcache\u001b[0m \u001b[0;34m=\u001b[0m \u001b[0;34m{\u001b[0m\u001b[0mset\u001b[0m\u001b[0;34m(\u001b[0m\u001b[0;34m[\u001b[0m\u001b[0;36m1\u001b[0m\u001b[0;34m,\u001b[0m \u001b[0;36m2\u001b[0m\u001b[0;34m]\u001b[0m\u001b[0;34m)\u001b[0m\u001b[0;34m:\u001b[0m \u001b[0;36m0\u001b[0m\u001b[0;34m}\u001b[0m\u001b[0;34m\u001b[0m\u001b[0;34m\u001b[0m\u001b[0m\n\u001b[0m",
      "\u001b[0;31mTypeError\u001b[0m: unhashable type: 'set'"
     ]
    }
   ],
   "source": [
    "cache = {set([1, 2]): 0}"
   ]
  },
  {
   "cell_type": "code",
   "execution_count": 47,
   "metadata": {},
   "outputs": [
    {
     "ename": "TypeError",
     "evalue": "unhashable type: 'dict'",
     "output_type": "error",
     "traceback": [
      "\u001b[0;31m---------------------------------------------------------------------------\u001b[0m",
      "\u001b[0;31mTypeError\u001b[0m                                 Traceback (most recent call last)",
      "\u001b[0;32m<ipython-input-47-e0d7ce6ea376>\u001b[0m in \u001b[0;36m<module>\u001b[0;34m\u001b[0m\n\u001b[0;32m----> 1\u001b[0;31m \u001b[0mcache\u001b[0m \u001b[0;34m=\u001b[0m \u001b[0;34m{\u001b[0m\u001b[0;34m{\u001b[0m\u001b[0;34m'a'\u001b[0m\u001b[0;34m:\u001b[0m \u001b[0;32mTrue\u001b[0m\u001b[0;34m}\u001b[0m\u001b[0;34m:\u001b[0m \u001b[0;32mTrue\u001b[0m\u001b[0;34m}\u001b[0m\u001b[0;34m\u001b[0m\u001b[0;34m\u001b[0m\u001b[0m\n\u001b[0m",
      "\u001b[0;31mTypeError\u001b[0m: unhashable type: 'dict'"
     ]
    }
   ],
   "source": [
    "cache = {{'a': True}: True}"
   ]
  },
  {
   "cell_type": "markdown",
   "metadata": {},
   "source": [
    "## Collision-Handling Schemes\n",
    "---\n",
    "\n",
    "While an input will always hash to the same output, there's no guarantee that two unique inputs won't hash to the same output.\n",
    "\n",
    "With a small dataset and the strength of the hashing functions in use, collisions are unlikely. We could see the potential for a collision in a simple scenario using a really bad hashing function, however:"
   ]
  },
  {
   "cell_type": "code",
   "execution_count": 2,
   "metadata": {},
   "outputs": [
    {
     "name": "stdout",
     "output_type": "stream",
     "text": [
      "Do we have a collision? True 11 11\n"
     ]
    }
   ],
   "source": [
    "bad_hash = lambda letters: int(''.join([str(ord(c) - 96) for c in letters]))\n",
    "first_hash = bad_hash('aa')\n",
    "second_hash = bad_hash('k')\n",
    "print('Do we have a collision?', first_hash == second_hash, first_hash, second_hash)"
   ]
  },
  {
   "cell_type": "markdown",
   "metadata": {},
   "source": [
    "### Separate Chaining\n",
    "---\n",
    "\n",
    "![](https://he-s3.s3.amazonaws.com/media/uploads/0e2c706.png)\n",
    "\n",
    "One method of addressing the issue of collisions is to maintain at every key a linked list of values stored at that key. While simpler to implement than other collision-handling methods, this approach results in O(n) operations (get, set, delete) in the worst case, n referring to the size of the bucket, or the number of collisions for that hashed key. This is because with each operation referencing this bucket of collisions, we must iterate over each item, looking for our target. It's also more costly in terms of space than alternatives that don't utilize extra data structures, in this case, our repeated use of additional linked lists."
   ]
  },
  {
   "cell_type": "markdown",
   "metadata": {},
   "source": [
    "### Open Addressing\n",
    "---\n",
    "\n",
    "![](https://cdn-images-1.medium.com/max/1600/1*xN0omiiMDelgCQmmg7zv9Q.png)\n",
    "\n",
    "#### Linear Probing\n",
    "---\n",
    "An alternative approach is to use no extra data structure, but store new values in, in the event of a hashed key collision, the next available space. This approach saves space, but group items into contiguous runs, which can cause overlap between two hashed keys that otherwise would have no collision. This is more common when more than half of the cells are occupied.\n",
    "\n",
    "#### Quadratic Probing\n",
    "---\n",
    "Linear probing, but instead of placing in the next available space, place it in the next available space at increments that increase exponentially with each attempt. This alleviates grouping of linear probing, but creates a secondary clustering and the table is still filled in a non-uniform manner.\n",
    "\n",
    "#### Double Hashing\n",
    "---\n",
    "Another approach is to use a secondary hashing function to redistribute the keys of a collision.\n",
    "\n",
    "#### Python's Approach\n",
    "---\n",
    "Python's approach, as of the publication of the 2013 edition of Goodrich's _Data Structure and Algorithms in Python_, is to increment the hashed key by a function of i (the number of attempts at finding an empty cell) % n (the size of the table). `f(i)` uses a pseudo-random number generator that provides a somewhat arbitrary but repeatable sequence of cell attempts.\n",
    "\n",
    "### Tradeoffs\n",
    "---\n",
    "Geeksforgeeks.org provides a summary of the tradeoffs between Separate Chaining and Open Addressing, and some thoughts on the more common open-addressing approaches. Jupyter notebooks \n",
    "\n",
    "| Seperate Chaining                                                                                       | Open Addressing                                                                              |\n",
    "|---------------------------------------------------------------------------------------------------------|----------------------------------------------------------------------------------------------|\n",
    "| Chaining is simpler to implement.                                                                       | Open Addressing requires more computation.                                                   |\n",
    "| In chaining, Hash table never fills up, we can always add more elements to chain.                       | In open addressing, table may become full.                                                   |\n",
    "| Chaining is Less sensitive to the hash function or load factors.                                        | Open addressing requires extra care for to avoid clustering and load factor.                 |\n",
    "| Chaining is mostly used when it is unknown how many and how frequently keys may be inserted or deleted. | Open addressing is used when the frequency and number of keys is known.                      |\n",
    "| Cache performance of chaining is not good as keys are stored using linked list.                         | Open addressing provides better cache performance as everything is stored in the same table. |\n",
    "| Wastage of Space (Some Parts of hash table in chaining are never used).                                 | In Open addressing, a slot can be used even if an input doesn’t map to it.                   |\n",
    "| Chaining uses extra space for links.                                                                    | No links in Open addressing                                                                  |\n",
    "\n"
   ]
  },
  {
   "cell_type": "code",
   "execution_count": null,
   "metadata": {},
   "outputs": [],
   "source": []
  }
 ],
 "metadata": {
  "kernelspec": {
   "display_name": "Python 3",
   "language": "python",
   "name": "python3"
  },
  "language_info": {
   "codemirror_mode": {
    "name": "ipython",
    "version": 3
   },
   "file_extension": ".py",
   "mimetype": "text/x-python",
   "name": "python",
   "nbconvert_exporter": "python",
   "pygments_lexer": "ipython3",
   "version": "3.6.7"
  }
 },
 "nbformat": 4,
 "nbformat_minor": 2
}
